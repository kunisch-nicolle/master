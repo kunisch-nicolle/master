{
 "cells": [
  {
   "cell_type": "code",
   "execution_count": 3,
   "id": "solar-spyware",
   "metadata": {},
   "outputs": [
    {
     "name": "stdout",
     "output_type": "stream",
     "text": [
      "Populating the interactive namespace from numpy and matplotlib\n"
     ]
    }
   ],
   "source": [
    "%pylab inline\n",
    "import pandas as pd\n",
    "import seaborn as sns\n",
    "import plotly.express as px\n",
    "\n",
    "import plotly.io as pio\n",
    "pio.renderers.default='iframe'\n",
    "from plotly.subplots import make_subplots\n",
    "import plotly.graph_objects as go\n",
    "\n",
    "sns.set_style('whitegrid', {'grid.linestyle': u'--'})\n",
    "matplotlib.rc('pdf', fonttype=42)"
   ]
  },
  {
   "cell_type": "code",
   "execution_count": 4,
   "id": "activated-passing",
   "metadata": {},
   "outputs": [
    {
     "data": {
      "text/html": [
       "<div>\n",
       "<style scoped>\n",
       "    .dataframe tbody tr th:only-of-type {\n",
       "        vertical-align: middle;\n",
       "    }\n",
       "\n",
       "    .dataframe tbody tr th {\n",
       "        vertical-align: top;\n",
       "    }\n",
       "\n",
       "    .dataframe thead th {\n",
       "        text-align: right;\n",
       "    }\n",
       "</style>\n",
       "<table border=\"1\" class=\"dataframe\">\n",
       "  <thead>\n",
       "    <tr style=\"text-align: right;\">\n",
       "      <th></th>\n",
       "      <th>T</th>\n",
       "      <th>Tmin</th>\n",
       "      <th>Tmax</th>\n",
       "      <th>Prec</th>\n",
       "      <th>RHmin</th>\n",
       "      <th>RHmax</th>\n",
       "      <th>u2</th>\n",
       "      <th>aP</th>\n",
       "      <th>Prec30h</th>\n",
       "      <th>Prec15</th>\n",
       "    </tr>\n",
       "  </thead>\n",
       "  <tbody>\n",
       "    <tr>\n",
       "      <th>1991-03-05 06:00:00</th>\n",
       "      <td>1.6</td>\n",
       "      <td>1.6</td>\n",
       "      <td>1.6</td>\n",
       "      <td>NaN</td>\n",
       "      <td>86.0</td>\n",
       "      <td>86.0</td>\n",
       "      <td>NaN</td>\n",
       "      <td>1021.0</td>\n",
       "      <td>NaN</td>\n",
       "      <td>NaN</td>\n",
       "    </tr>\n",
       "    <tr>\n",
       "      <th>1991-03-05 07:00:00</th>\n",
       "      <td>NaN</td>\n",
       "      <td>NaN</td>\n",
       "      <td>NaN</td>\n",
       "      <td>NaN</td>\n",
       "      <td>NaN</td>\n",
       "      <td>NaN</td>\n",
       "      <td>NaN</td>\n",
       "      <td>NaN</td>\n",
       "      <td>NaN</td>\n",
       "      <td>NaN</td>\n",
       "    </tr>\n",
       "    <tr>\n",
       "      <th>1991-03-05 08:00:00</th>\n",
       "      <td>NaN</td>\n",
       "      <td>NaN</td>\n",
       "      <td>NaN</td>\n",
       "      <td>NaN</td>\n",
       "      <td>NaN</td>\n",
       "      <td>NaN</td>\n",
       "      <td>NaN</td>\n",
       "      <td>NaN</td>\n",
       "      <td>NaN</td>\n",
       "      <td>NaN</td>\n",
       "    </tr>\n",
       "    <tr>\n",
       "      <th>1991-03-05 09:00:00</th>\n",
       "      <td>2.2</td>\n",
       "      <td>2.2</td>\n",
       "      <td>2.2</td>\n",
       "      <td>NaN</td>\n",
       "      <td>86.0</td>\n",
       "      <td>86.0</td>\n",
       "      <td>NaN</td>\n",
       "      <td>1020.5</td>\n",
       "      <td>NaN</td>\n",
       "      <td>NaN</td>\n",
       "    </tr>\n",
       "    <tr>\n",
       "      <th>1991-03-05 10:00:00</th>\n",
       "      <td>NaN</td>\n",
       "      <td>NaN</td>\n",
       "      <td>NaN</td>\n",
       "      <td>NaN</td>\n",
       "      <td>NaN</td>\n",
       "      <td>NaN</td>\n",
       "      <td>NaN</td>\n",
       "      <td>NaN</td>\n",
       "      <td>NaN</td>\n",
       "      <td>NaN</td>\n",
       "    </tr>\n",
       "  </tbody>\n",
       "</table>\n",
       "</div>"
      ],
      "text/plain": [
       "                       T  Tmin  Tmax  Prec  RHmin  RHmax  u2      aP  Prec30h  \\\n",
       "1991-03-05 06:00:00  1.6   1.6   1.6   NaN   86.0   86.0 NaN  1021.0      NaN   \n",
       "1991-03-05 07:00:00  NaN   NaN   NaN   NaN    NaN    NaN NaN     NaN      NaN   \n",
       "1991-03-05 08:00:00  NaN   NaN   NaN   NaN    NaN    NaN NaN     NaN      NaN   \n",
       "1991-03-05 09:00:00  2.2   2.2   2.2   NaN   86.0   86.0 NaN  1020.5      NaN   \n",
       "1991-03-05 10:00:00  NaN   NaN   NaN   NaN    NaN    NaN NaN     NaN      NaN   \n",
       "\n",
       "                     Prec15  \n",
       "1991-03-05 06:00:00     NaN  \n",
       "1991-03-05 07:00:00     NaN  \n",
       "1991-03-05 08:00:00     NaN  \n",
       "1991-03-05 09:00:00     NaN  \n",
       "1991-03-05 10:00:00     NaN  "
      ]
     },
     "execution_count": 4,
     "metadata": {},
     "output_type": "execute_result"
    }
   ],
   "source": [
    "meteo = pd.read_csv('Lichtenhain.csv',index_col=0)\n",
    "meteo.index = pd.to_datetime(meteo.index)\n",
    "meteo.head()"
   ]
  },
  {
   "cell_type": "code",
   "execution_count": 11,
   "id": "catholic-resistance",
   "metadata": {},
   "outputs": [
    {
     "data": {
      "text/html": [
       "<iframe\n",
       "    scrolling=\"no\"\n",
       "    width=\"100%\"\n",
       "    height=\"545px\"\n",
       "    src=\"iframe_figures/figure_11.html\"\n",
       "    frameborder=\"0\"\n",
       "    allowfullscreen\n",
       "></iframe>\n"
      ]
     },
     "metadata": {},
     "output_type": "display_data"
    }
   ],
   "source": [
    "meteox = meteo.resample('1W').agg({'T':'mean','Tmin':'min','Tmax':'max','Prec':'sum','RHmin':'min','RHmax':'max','u2':'mean','aP':'mean'})\n",
    "meteox['Prec50'] = meteox['Prec']\n",
    "meteox.loc[meteox['Prec50']<50.,'Prec50']=np.nan\n",
    "\n",
    "meteo['Prec30h'] = meteo['Prec']\n",
    "meteo.loc[meteo['Prec30h']<15.,'Prec30h']=np.nan\n",
    "\n",
    "\n",
    "\n",
    "# set up plotly figure\n",
    "fig = make_subplots(1,1)\n",
    "fig.add_trace(go.Bar(x=meteox.index, y=meteox['Prec'], name='Prec', marker_color = 'steelblue', opacity=0.4))\n",
    "fig.add_trace(go.Bar(x=meteox.index, y=meteox['Prec50'], name='Prec 50 l/w', marker_color = 'orange', opacity=0.9))\n",
    "fig.add_trace(go.Bar(x=meteo.index, y=meteo['Prec30h'], name='Prec 30 l/h', marker_color = 'red', opacity=0.9))\n",
    "#fig.add_trace(go.Scatter(x=meteox.index, y=meteox['T'], line=dict(color='red'), name='T'))\n",
    "#fig.layout.update(yaxis2 = go.layout.YAxis(overlaying='y', side='right'))\n",
    "#fig.add_trace(go.Scatter(x=ddx.index, y=ddx['Rad'], line=dict(color='orange'), name='Rad',yaxis='y2'))\n",
    "fig.update_layout({'template': 'none'})\n",
    "fig.show()"
   ]
  },
  {
   "cell_type": "code",
   "execution_count": 6,
   "id": "fantastic-concentration",
   "metadata": {},
   "outputs": [
    {
     "data": {
      "text/plain": [
       "42"
      ]
     },
     "execution_count": 6,
     "metadata": {},
     "output_type": "execute_result"
    }
   ],
   "source": [
    "meteox.loc[meteox['Prec50']>=50.,'Prec50'].count()"
   ]
  },
  {
   "cell_type": "code",
   "execution_count": 10,
   "id": "illegal-month",
   "metadata": {},
   "outputs": [
    {
     "data": {
      "text/plain": [
       "Text(0, 0.5, 'Anzahl Starkregen')"
      ]
     },
     "execution_count": 10,
     "metadata": {},
     "output_type": "execute_result"
    },
    {
     "data": {
      "image/png": "[encoded data removed]",
      "text/plain": [
       "<Figure size 1152x288 with 1 Axes>"
      ]
     },
     "metadata": {},
     "output_type": "display_data"
    }
   ],
   "source": [
    "figsize(16,4)\n",
    "meteo['Prec15'] = meteo['Prec30h']/meteo['Prec30h']\n",
    "plot(meteo['Prec15'].rolling('1100D').sum(),'.')\n",
    "title('Auftretenshäufigkeit Starkregen >15 mm/h in 3 Jahren')\n",
    "ylabel('Anzahl Starkregen')\n",
    "#savefig('strakregenx.png',bbox_inches='tight')"
   ]
  },
  {
   "cell_type": "code",
   "execution_count": 9,
   "id": "specific-change",
   "metadata": {},
   "outputs": [
    {
     "data": {
      "text/plain": [
       "Text(0, 0.5, 'Temp (°C)')"
      ]
     },
     "execution_count": 9,
     "metadata": {},
     "output_type": "execute_result"
    },
    {
     "data": {
      "image/png": "[encoded data removed]",
      "text/plain": [
       "<Figure size 432x288 with 2 Axes>"
      ]
     },
     "metadata": {},
     "output_type": "display_data"
    }
   ],
   "source": [
    "tst = pd.to_datetime('2019-06-09 01:00')\n",
    "tnd = pd.to_datetime('2019-06-12 15:00')\n",
    "meteo.loc[tst:tnd,'Prec'].plot()\n",
    "ylabel('Prec (mm/h)')\n",
    "meteo.loc[tst:tnd,'T'].plot(secondary_y=True)\n",
    "ylabel('Temp (°C)')\n",
    "savefig('blablubb.pdf',bbox_inches='tight')\n",
    "#savefig('blablubb.png',bbox_inches='tight')"
   ]
  },
  {
   "cell_type": "code",
   "execution_count": null,
   "id": "conscious-watts",
   "metadata": {},
   "outputs": [],
   "source": []
  }
 ],
 "metadata": {
  "kernelspec": {
   "display_name": "Python 3",
   "language": "python",
   "name": "python3"
  },
  "language_info": {
   "codemirror_mode": {
    "name": "ipython",
    "version": 3
   },
   "file_extension": ".py",
   "mimetype": "text/x-python",
   "name": "python",
   "nbconvert_exporter": "python",
   "pygments_lexer": "ipython3",
   "version": "3.7.2"
  }
 },
 "nbformat": 4,
 "nbformat_minor": 5
}
